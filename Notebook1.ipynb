{
 "cells": [
  {
   "cell_type": "code",
   "execution_count": 1,
   "id": "b32b097d-f11d-42a1-bfc0-dee06599c029",
   "metadata": {
    "id": "14dc1021-4a6f-4a0c-851a-e8e078e3c6f8",
    "tags": []
   },
   "outputs": [
    {
     "name": "stdout",
     "output_type": "stream",
     "text": [
      "Hello World. This is notebook 1.\n"
     ]
    }
   ],
   "source": [
    "print (\"Hello World. This is notebook 1.\")"
   ]
  },
  {
   "cell_type": "code",
   "execution_count": 1,
   "id": "cf84b1d5-ed7d-4730-bcbe-162da3494d0a",
   "metadata": {
    "id": "cf84b1d5-ed7d-4730-bcbe-162da3494d0a",
    "tags": []
   },
   "outputs": [
    {
     "name": "stdout",
     "output_type": "stream",
     "text": [
      "This notebook was changed by a collaborator.\n"
     ]
    }
   ],
   "source": [
    "print (\"This notebook was changed by a collaborator.\")"
   ]
  },
  {
   "cell_type": "code",
   "execution_count": null,
   "id": "aa20f5eb-101a-4250-991f-f5c92a48ec9a",
   "metadata": {
    "id": "aa20f5eb-101a-4250-991f-f5c92a48ec9a"
   },
   "outputs": [],
   "source": []
  }
 ],
 "metadata": {
  "kernelspec": {
   "display_name": "Python 3.9",
   "language": "python",
   "name": "python3"
  },
  "language_info": {
   "codemirror_mode": {
    "name": "ipython",
    "version": 3
   },
   "file_extension": ".py",
   "mimetype": "text/x-python",
   "name": "python",
   "nbconvert_exporter": "python",
   "pygments_lexer": "ipython3",
   "version": "3.9.7"
  }
 },
 "nbformat": 4,
 "nbformat_minor": 5
}
