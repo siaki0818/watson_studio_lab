{
 "cells": [
  {
   "cell_type": "code",
   "execution_count": 1,
   "id": "216a956a-fd64-4e9a-bd6e-f726163b8f0c",
   "metadata": {
    "id": "29a83f1b-59e0-4371-b3ce-5e4e2f531325",
    "tags": []
   },
   "outputs": [
    {
     "name": "stdout",
     "output_type": "stream",
     "text": [
      "Hello World. This is notebook 2.\n"
     ]
    }
   ],
   "source": [
    "print (\"Hello World. This is notebook 2.\")"
   ]
  },
  {
   "cell_type": "code",
   "execution_count": null,
   "id": "b78880bf-5f46-4cda-9b7b-41797c881e3e",
   "metadata": {
    "id": "b78880bf-5f46-4cda-9b7b-41797c881e3e"
   },
   "outputs": [],
   "source": []
  }
 ],
 "metadata": {
  "kernelspec": {
   "display_name": "Python 3.9",
   "language": "python",
   "name": "python3"
  },
  "language_info": {
   "codemirror_mode": {
    "name": "ipython",
    "version": 3
   },
   "file_extension": ".py",
   "mimetype": "text/x-python",
   "name": "python",
   "nbconvert_exporter": "python",
   "pygments_lexer": "ipython3",
   "version": "3.9.7"
  }
 },
 "nbformat": 4,
 "nbformat_minor": 5
}
